{
  "nbformat": 4,
  "nbformat_minor": 0,
  "metadata": {
    "colab": {
      "name": "FrancescoLissandron_2005838_HW2.ipynb",
      "provenance": [],
      "collapsed_sections": [],
      "toc_visible": true
    },
    "kernelspec": {
      "display_name": "Python 3",
      "name": "python3"
    }
  },
  "cells": [
    {
      "cell_type": "markdown",
      "metadata": {
        "id": "QUc9frYnVBI_"
      },
      "source": [
        "#**HW 2: Optimize and train Deep Models**\n",
        "\n",
        "In this homework, we will explore how to develop a simple Deep Neural Network for a classification problem. We will explore two common libraries: TensorFlow and Keras.\n",
        "Then we will explore how to face a well known problem that is common to encounter during the training phase: the Overfitting.\n",
        "Finally, we will study how to perform a fair model selection.\n",
        "Hint: Before starting the exercise take a look at how Tensorflow and Keras are designed.  https://keras.io/"
      ]
    },
    {
      "cell_type": "markdown",
      "metadata": {
        "id": "e-Nc7mFSVEiU"
      },
      "source": [
        "##Exercise 2.1: Image Classficiation with Tensorflow and Keras\n",
        "\n",
        "In this first exercise we will develop a 3 layers Neural Network to perfrom classification.\n",
        "\n",
        "Let's start importing the libraries we will need and setting a couple of environmental variables.\n"
      ]
    },
    {
      "cell_type": "code",
      "metadata": {
        "id": "bWn9FzneVqJo"
      },
      "source": [
        "import matplotlib as mpl\n",
        "import matplotlib.pyplot as plt\n",
        "import numpy as np\n",
        "import os\n",
        "import pandas as pd\n",
        "import sklearn\n",
        "import sys\n",
        "import tensorflow as tf\n",
        "from tensorflow import keras  # tf.keras\n",
        "import time\n",
        "\n",
        "import logging\n",
        "logging.disable(logging.WARNING)\n",
        "os.environ[\"TF_CPP_MIN_LOG_LEVEL\"] = \"3\" \n",
        "\n",
        "\n",
        "\n",
        "tf.random.set_seed(42)\n",
        "# os.environ['TF_DETERMINISTIC_OPS']='1'"
      ],
      "execution_count": 3,
      "outputs": []
    },
    {
      "cell_type": "markdown",
      "metadata": {
        "id": "LT2HMYDEXcx0"
      },
      "source": [
        "### Load Data: IMDB dataset\n",
        "\n",
        "In this HW, we use the IMDB dataset that can be easily downloaded using Keras. The dataset contains 50,000 movie reviews from IMDB, labeled by sentiment (positive/negative). Reviews have been preprocessed, and each review is encoded as a sequence of word indexes. For convenience, the words are indexed by the overall frequency in the dataset, so that for example the integer \"3\" encodes the 3rd most frequent word in the data. For testing purposes, we will only consider the first 10,000  most common words.\n",
        "By default, the load_data method returns a breakdown of the dataset into training and test sets. Both these sets contain 25,000 samples. To also have a validation set, we split the test set in half.\n",
        "\n"
      ]
    },
    {
      "cell_type": "code",
      "metadata": {
        "id": "JZv86gBLXj-D",
        "colab": {
          "base_uri": "https://localhost:8080/"
        },
        "outputId": "47c7f8d4-167c-40d2-b877-b50e581651fa"
      },
      "source": [
        "num_words = 1000\n",
        "(X_train, y_train), (X_test, y_test) = keras.datasets.imdb.load_data(num_words=num_words)\n",
        "(X_valid, X_test) = X_test[:12500], X_test[12500:]\n",
        "(y_valid, y_test) = y_test[:12500], y_test[12500:]"
      ],
      "execution_count": 4,
      "outputs": [
        {
          "output_type": "stream",
          "text": [
            "<string>:6: VisibleDeprecationWarning: Creating an ndarray from ragged nested sequences (which is a list-or-tuple of lists-or-tuples-or ndarrays with different lengths or shapes) is deprecated. If you meant to do this, you must specify 'dtype=object' when creating the ndarray\n",
            "/usr/local/lib/python3.7/dist-packages/tensorflow/python/keras/datasets/imdb.py:155: VisibleDeprecationWarning: Creating an ndarray from ragged nested sequences (which is a list-or-tuple of lists-or-tuples-or ndarrays with different lengths or shapes) is deprecated. If you meant to do this, you must specify 'dtype=object' when creating the ndarray\n",
            "  x_train, y_train = np.array(xs[:idx]), np.array(labels[:idx])\n",
            "/usr/local/lib/python3.7/dist-packages/tensorflow/python/keras/datasets/imdb.py:156: VisibleDeprecationWarning: Creating an ndarray from ragged nested sequences (which is a list-or-tuple of lists-or-tuples-or ndarrays with different lengths or shapes) is deprecated. If you meant to do this, you must specify 'dtype=object' when creating the ndarray\n",
            "  x_test, y_test = np.array(xs[idx:]), np.array(labels[idx:])\n"
          ],
          "name": "stderr"
        }
      ]
    },
    {
      "cell_type": "markdown",
      "metadata": {
        "id": "TEZHVHpuPdQF"
      },
      "source": [
        "In this HW we will consider a Deep Neural Network. The IMDB data consists in reviews, each one composed by a seqeunce of words. In order to encode each review in a single tensor with a fixed number of elements, we will use multi-hot encoding. Multi-hot-encoding our lists means turning them into vectors of 0s and 1s. Concretely, this would mean for instance turning the sequence [3, 5] into a 10,000-dimensional vector that would be all-zeros except for indices 3 and 5, which would be ones. The obtained input representation indicates which words are present (at least one time) in the sentence.\n",
        "\n",
        " "
      ]
    },
    {
      "cell_type": "code",
      "metadata": {
        "id": "hxE9DhiFPP0T"
      },
      "source": [
        "def multi_hot_encoder(dataset, num_word):\n",
        "  dataset_multi_hot=[]\n",
        "  for sequence in dataset:\n",
        "    index, _ = tf.unique(sequence)\n",
        "    dataset_multi_hot.append(tf.reduce_max(tf.one_hot(index-1, num_word, dtype=tf.int32), axis=0))\n",
        "  dataset_multi_hot = tf.stack(dataset_multi_hot)\n",
        "  return dataset_multi_hot\n",
        "\n",
        "X_train = multi_hot_encoder(X_train,num_words)\n",
        "X_test = multi_hot_encoder(X_test,num_words)\n",
        "X_valid = multi_hot_encoder(X_valid,num_words)"
      ],
      "execution_count": 5,
      "outputs": []
    },
    {
      "cell_type": "markdown",
      "metadata": {
        "id": "jGUg8TexZMNf"
      },
      "source": [
        "### Define the model:\n",
        "\n",
        "Let's build a Sequential model (keras.models.Sequential) and add four layers to it by calling its add() method:\n",
        "\n",
        "\n",
        "*   a input layer (tf.keras.Input) that is the first layer in your model. With this layer you should specify the input_shape argument, leaving out the batch size: (num_words,);\n",
        "*  a Dense layer (keras.layers.Dense) with 16 neurons, and the \"relu\" activation function;\n",
        "* another Dense layer with 16 neurons, also with the \"relu\" activation function;\n",
        "* a final Dense layer with 1 output neurons, and with the \"sigmoid\" activation (since we considering a binary classification task)."
      ]
    },
    {
      "cell_type": "code",
      "metadata": {
        "id": "OaoEISyaZL56"
      },
      "source": [
        "model = keras.models.Sequential()\n",
        "model.add(tf.keras.Input(shape=(num_words,)))\n",
        "model.add(keras.layers.Dense(16, activation=\"relu\"))\n",
        "model.add(keras.layers.Dense(16, activation=\"relu\"))\n",
        "model.add(keras.layers.Dense(1, activation=\"sigmoid\"))\n",
        "\n"
      ],
      "execution_count": 7,
      "outputs": []
    },
    {
      "cell_type": "markdown",
      "metadata": {
        "id": "fYfxUOQVZljh"
      },
      "source": [
        "Call the model's summary() method to check if the model has been built correctly. Also, try using keras.utils.plot_model() to save an image of your model's architecture."
      ]
    },
    {
      "cell_type": "code",
      "metadata": {
        "id": "IpGkQl5dZoWq",
        "colab": {
          "base_uri": "https://localhost:8080/"
        },
        "outputId": "972210ed-b036-4965-a05e-c7bec9402344"
      },
      "source": [
        "model.summary()"
      ],
      "execution_count": 8,
      "outputs": [
        {
          "output_type": "stream",
          "text": [
            "Model: \"sequential_1\"\n",
            "_________________________________________________________________\n",
            "Layer (type)                 Output Shape              Param #   \n",
            "=================================================================\n",
            "dense_3 (Dense)              (None, 16)                16016     \n",
            "_________________________________________________________________\n",
            "dense_4 (Dense)              (None, 16)                272       \n",
            "_________________________________________________________________\n",
            "dense_5 (Dense)              (None, 1)                 17        \n",
            "=================================================================\n",
            "Total params: 16,305\n",
            "Trainable params: 16,305\n",
            "Non-trainable params: 0\n",
            "_________________________________________________________________\n"
          ],
          "name": "stdout"
        }
      ]
    },
    {
      "cell_type": "code",
      "metadata": {
        "id": "b1NbkrXRZwOA",
        "colab": {
          "base_uri": "https://localhost:8080/",
          "height": 422
        },
        "outputId": "50cc533d-c0c3-488a-859f-13b344fe722c"
      },
      "source": [
        "keras.utils.plot_model(model, \"my_imdb_model.png\", show_shapes=True)"
      ],
      "execution_count": 9,
      "outputs": [
        {
          "output_type": "execute_result",
          "data": {
            "image/png": "[encoded data removed]",
            "text/plain": [
              "<IPython.core.display.Image object>"
            ]
          },
          "metadata": {
            "tags": []
          },
          "execution_count": 9
        }
      ]
    },
    {
      "cell_type": "markdown",
      "metadata": {
        "id": "Mc3xzuA-33WH"
      },
      "source": [
        "As you can see, the first dimension of each layer is not defined (?), indeed this dimension in each layer is variable and depends on the batch size."
      ]
    },
    {
      "cell_type": "markdown",
      "metadata": {
        "id": "6FAjFixuHSA_"
      },
      "source": [
        "Instaed of using *add()* method it is also possibile to define the model using the following syntax"
      ]
    },
    {
      "cell_type": "code",
      "metadata": {
        "id": "yOhr57M9GPHy",
        "colab": {
          "base_uri": "https://localhost:8080/",
          "height": 660
        },
        "outputId": "1cd2fd35-bb29-4a21-f77b-d73ef199a80e"
      },
      "source": [
        "model = keras.models.Sequential([\n",
        "    tf.keras.Input(shape=(num_words,)),\n",
        "    keras.layers.Dense(16, activation=\"relu\"),\n",
        "    keras.layers.Dense(16, activation=\"relu\"),\n",
        "    keras.layers.Dense(1, activation=\"sigmoid\")\n",
        "])\n",
        "model.summary()\n",
        "keras.utils.plot_model(model, \"my_imdb_model.png\", show_shapes=True)"
      ],
      "execution_count": 10,
      "outputs": [
        {
          "output_type": "stream",
          "text": [
            "Model: \"sequential_2\"\n",
            "_________________________________________________________________\n",
            "Layer (type)                 Output Shape              Param #   \n",
            "=================================================================\n",
            "dense_6 (Dense)              (None, 16)                16016     \n",
            "_________________________________________________________________\n",
            "dense_7 (Dense)              (None, 16)                272       \n",
            "_________________________________________________________________\n",
            "dense_8 (Dense)              (None, 1)                 17        \n",
            "=================================================================\n",
            "Total params: 16,305\n",
            "Trainable params: 16,305\n",
            "Non-trainable params: 0\n",
            "_________________________________________________________________\n"
          ],
          "name": "stdout"
        },
        {
          "output_type": "execute_result",
          "data": {
            "image/png": "[encoded data removed]",
            "text/plain": [
              "<IPython.core.display.Image object>"
            ]
          },
          "metadata": {
            "tags": []
          },
          "execution_count": 10
        }
      ]
    },
    {
      "cell_type": "markdown",
      "metadata": {
        "id": "2ySdJmzxaSuz"
      },
      "source": [
        "### Optimize the model:\n",
        "\n",
        "After the model has been created, you must call its compile() method to specify the loss function and the optimizer to use.\n",
        "\n",
        "Since the model performs a binary classification task, we use the bynary cross-entropy as loss. As optimizer we use Adam.\n",
        "\n",
        "Moreover, you can optionally specify a list of additional metrics that should be measured during training. In this case we specify metrics=[\"accuracy\"]."
      ]
    },
    {
      "cell_type": "code",
      "metadata": {
        "id": "x3bbsY3uaeh5"
      },
      "source": [
        "model.compile(loss=\"binary_crossentropy\",\n",
        "              optimizer=keras.optimizers.Adam(learning_rate=1e-4),\n",
        "              metrics=[\"accuracy\"])"
      ],
      "execution_count": 11,
      "outputs": []
    },
    {
      "cell_type": "markdown",
      "metadata": {
        "id": "NB9SV0MpaeTg"
      },
      "source": [
        "Now our model is ready to be trained. Call its fit() method, passing to it the input features (X_train) and the target classes (y_train). Set the number of epochs to 20. \n",
        "In order to validate our model we will also pass the validation data by setting validation_data=(X_valid, y_valid). Keras will compute the loss and the additional metrics (the accuracy in this case) on the validation set at the end of each epoch. If the loss on the training set is much lower than the one on the validation set, your model is probably overfitting the training set. Note: the fit() method will return a History object containing training stats."
      ]
    },
    {
      "cell_type": "code",
      "metadata": {
        "id": "5whx-LU3aoKn",
        "colab": {
          "base_uri": "https://localhost:8080/"
        },
        "outputId": "35db0771-b71a-4346-f6fb-c73f016088a5"
      },
      "source": [
        "history = model.fit(X_train, y_train, epochs=20,\n",
        "                    validation_data=(X_valid, y_valid))"
      ],
      "execution_count": 12,
      "outputs": [
        {
          "output_type": "stream",
          "text": [
            "Epoch 1/20\n",
            "782/782 [==============================] - 3s 3ms/step - loss: 0.6185 - accuracy: 0.6764 - val_loss: 0.5044 - val_accuracy: 0.7946\n",
            "Epoch 2/20\n",
            "782/782 [==============================] - 2s 2ms/step - loss: 0.4151 - accuracy: 0.8327 - val_loss: 0.3766 - val_accuracy: 0.8402\n",
            "Epoch 3/20\n",
            "782/782 [==============================] - 2s 2ms/step - loss: 0.3438 - accuracy: 0.8575 - val_loss: 0.3508 - val_accuracy: 0.8502\n",
            "Epoch 4/20\n",
            "782/782 [==============================] - 2s 2ms/step - loss: 0.3213 - accuracy: 0.8660 - val_loss: 0.3397 - val_accuracy: 0.8562\n",
            "Epoch 5/20\n",
            "782/782 [==============================] - 2s 2ms/step - loss: 0.3106 - accuracy: 0.8705 - val_loss: 0.3376 - val_accuracy: 0.8560\n",
            "Epoch 6/20\n",
            "782/782 [==============================] - 2s 2ms/step - loss: 0.3049 - accuracy: 0.8729 - val_loss: 0.3346 - val_accuracy: 0.8576\n",
            "Epoch 7/20\n",
            "782/782 [==============================] - 2s 2ms/step - loss: 0.3008 - accuracy: 0.8748 - val_loss: 0.3349 - val_accuracy: 0.8562\n",
            "Epoch 8/20\n",
            "782/782 [==============================] - 2s 3ms/step - loss: 0.2982 - accuracy: 0.8778 - val_loss: 0.3350 - val_accuracy: 0.8567\n",
            "Epoch 9/20\n",
            "782/782 [==============================] - 2s 2ms/step - loss: 0.2960 - accuracy: 0.8781 - val_loss: 0.3360 - val_accuracy: 0.8555\n",
            "Epoch 10/20\n",
            "782/782 [==============================] - 2s 3ms/step - loss: 0.2942 - accuracy: 0.8793 - val_loss: 0.3360 - val_accuracy: 0.8554\n",
            "Epoch 11/20\n",
            "782/782 [==============================] - 2s 2ms/step - loss: 0.2924 - accuracy: 0.8798 - val_loss: 0.3374 - val_accuracy: 0.8545\n",
            "Epoch 12/20\n",
            "782/782 [==============================] - 2s 2ms/step - loss: 0.2908 - accuracy: 0.8798 - val_loss: 0.3376 - val_accuracy: 0.8540\n",
            "Epoch 13/20\n",
            "782/782 [==============================] - 2s 3ms/step - loss: 0.2887 - accuracy: 0.8812 - val_loss: 0.3396 - val_accuracy: 0.8541\n",
            "Epoch 14/20\n",
            "782/782 [==============================] - 2s 2ms/step - loss: 0.2872 - accuracy: 0.8821 - val_loss: 0.3392 - val_accuracy: 0.8525\n",
            "Epoch 15/20\n",
            "782/782 [==============================] - 2s 3ms/step - loss: 0.2854 - accuracy: 0.8828 - val_loss: 0.3400 - val_accuracy: 0.8522\n",
            "Epoch 16/20\n",
            "782/782 [==============================] - 2s 2ms/step - loss: 0.2832 - accuracy: 0.8850 - val_loss: 0.3407 - val_accuracy: 0.8523\n",
            "Epoch 17/20\n",
            "782/782 [==============================] - 2s 2ms/step - loss: 0.2813 - accuracy: 0.8849 - val_loss: 0.3418 - val_accuracy: 0.8526\n",
            "Epoch 18/20\n",
            "782/782 [==============================] - 2s 2ms/step - loss: 0.2790 - accuracy: 0.8862 - val_loss: 0.3430 - val_accuracy: 0.8511\n",
            "Epoch 19/20\n",
            "782/782 [==============================] - 2s 2ms/step - loss: 0.2769 - accuracy: 0.8877 - val_loss: 0.3426 - val_accuracy: 0.8527\n",
            "Epoch 20/20\n",
            "782/782 [==============================] - 2s 3ms/step - loss: 0.2740 - accuracy: 0.8882 - val_loss: 0.3447 - val_accuracy: 0.8518\n"
          ],
          "name": "stdout"
        }
      ]
    },
    {
      "cell_type": "markdown",
      "metadata": {
        "id": "EPxiw8iCADr-"
      },
      "source": [
        "Let's plot the loss and the accuracy trends on both training and validation sets. We define the \"plot_learning_acc_and_loss\" function because we will reuse it in the next steps."
      ]
    },
    {
      "cell_type": "code",
      "metadata": {
        "id": "AJg-F7mUa7st",
        "colab": {
          "base_uri": "https://localhost:8080/",
          "height": 320
        },
        "outputId": "932426f7-445d-4798-8c65-1a81dd0f3787"
      },
      "source": [
        "def plot_learning_acc_and_loss(history):\n",
        "    pd.DataFrame(history.history).plot(figsize=(8, 5))\n",
        "    plt.grid(True)\n",
        "    plt.show()\n",
        "plot_learning_acc_and_loss(history)"
      ],
      "execution_count": 13,
      "outputs": [
        {
          "output_type": "display_data",
          "data": {
            "image/png": "[encoded data removed]",
            "text/plain": [
              "<Figure size 576x360 with 1 Axes>"
            ]
          },
          "metadata": {
            "tags": [],
            "needs_background": "light"
          }
        }
      ]
    },
    {
      "cell_type": "markdown",
      "metadata": {
        "id": "9O3-sLmxansJ"
      },
      "source": [
        "### [TO COMPLETE] Evaluate the model:\n",
        "\n",
        "Now, our model has been optimized on the training set, and as you can see the performance on the validation set in quite similar (so it does not overfit the training data). Let's now evaluate the performance of our model using the test set."
      ]
    },
    {
      "cell_type": "code",
      "metadata": {
        "id": "q-ZvJEcObdyB",
        "colab": {
          "base_uri": "https://localhost:8080/"
        },
        "outputId": "6d8fdce8-691e-489f-b4f0-4e9bd8806074"
      },
      "source": [
        "model.evaluate(X_test, y_test)"
      ],
      "execution_count": 14,
      "outputs": [
        {
          "output_type": "stream",
          "text": [
            "391/391 [==============================] - 0s 1ms/step - loss: 0.3233 - accuracy: 0.8635\n"
          ],
          "name": "stdout"
        },
        {
          "output_type": "execute_result",
          "data": {
            "text/plain": [
              "[0.32326701283454895, 0.8635200262069702]"
            ]
          },
          "metadata": {
            "tags": []
          },
          "execution_count": 14
        }
      ]
    },
    {
      "cell_type": "markdown",
      "metadata": {
        "id": "KTSxlnwrII-n"
      },
      "source": [
        "[TO COMPLETE] Explain why it is important to use test and validation, and why it is important to evaluate the model on the test set instead of the validation set. Finally, explain which is the usefulness of the validation set. Insert the discussion in this cell.\n",
        "\n",
        "\n",
        "The purpose of using the validation set is to understand the model behaviour and generalizibility on unseen data. The purpose of using the test set is instead to understand how the model would perform in a real world scenario. it is important to evaluate the model on the test set instead of the validation set because if we use instead the validation set to evaluate we might end up with models that are too much optimized to perform great on the validation set but don't perform that well on real data. That's why we need a test set. This set is a collection of examples that don't form part of the training process and don't participate in model tuning so we can safely use it to get an idea of how well the model will perform. It gives us an unbiased performance measure of our entire model. The validation set is useful for parameter selection and to detect overfitting during the training stages. "
      ]
    },
    {
      "cell_type": "markdown",
      "metadata": {
        "id": "aeGlzKe864Gq"
      },
      "source": [
        "## [TO COMPLETE] Exercise 2.2: Overfiting\n",
        "\n",
        "A common problem that occurs when you train a deep neural network is overfittig. Overfitting occurs when you achieve a good fit of your model on the training data, while it does not generalize well on new, unseen data. In other words, the model learned patterns specific to the training data, which are irrelevant in other data.\n",
        "As we have seen in the previous exercise, our model does not overfit the training data. In this exercise, we try to modify the training parameters in order to have a model that overfits.\n",
        "Overfitting can have many causes and usually is a combination of some of them, for instance: too many parameters/ layers, too few training samples, wrong learning rate (usualy too high), etc..\n",
        "\n",
        "[TO COMPLETE] In the next cell define a new model (similar to the previuos one) that overfits the training data; then plot the trend of the loss in training and validation set."
      ]
    },
    {
      "cell_type": "code",
      "metadata": {
        "id": "T2B2DFEC8f88",
        "colab": {
          "base_uri": "https://localhost:8080/"
        },
        "outputId": "3cf04e8f-f2c4-4f19-c3cc-5c5bd0be2e8e"
      },
      "source": [
        "model = keras.models.Sequential()\n",
        "#[TO COMPLETE] modify the previuos model in order to obtain a new mdel that overfit the training data\n",
        "model.add(tf.keras.Input(shape=(num_words,))) #input\n",
        "model.add(keras.layers.Dense(16, activation=\"relu\"))#1hidden layer\n",
        "model.add(keras.layers.Dense(16, activation=\"relu\")) #2hidden layer\n",
        "model.add(keras.layers.Dense(1, activation=\"sigmoid\")) #output\n",
        "\n",
        "\n",
        "model.compile(loss=\"binary_crossentropy\",\n",
        "              optimizer=keras.optimizers.Adam(learning_rate=1e-3),#[TO COMPLETE] learning rate\n",
        "              metrics=[\"accuracy\"])\n",
        "\n",
        "history = model.fit(X_train, y_train, epochs=20, \n",
        "                    validation_data=(X_valid, y_valid))\n",
        "\n",
        "print(\"Model Evaluation\")\n",
        "model.evaluate(X_test, y_test)"
      ],
      "execution_count": 15,
      "outputs": [
        {
          "output_type": "stream",
          "text": [
            "Epoch 1/20\n",
            "782/782 [==============================] - 2s 2ms/step - loss: 0.3868 - accuracy: 0.8320 - val_loss: 0.3536 - val_accuracy: 0.8465\n",
            "Epoch 2/20\n",
            "782/782 [==============================] - 2s 2ms/step - loss: 0.3170 - accuracy: 0.8638 - val_loss: 0.3316 - val_accuracy: 0.8532\n",
            "Epoch 3/20\n",
            "782/782 [==============================] - 2s 2ms/step - loss: 0.2992 - accuracy: 0.8729 - val_loss: 0.3421 - val_accuracy: 0.8486\n",
            "Epoch 4/20\n",
            "782/782 [==============================] - 2s 2ms/step - loss: 0.2812 - accuracy: 0.8794 - val_loss: 0.3484 - val_accuracy: 0.8466\n",
            "Epoch 5/20\n",
            "782/782 [==============================] - 2s 2ms/step - loss: 0.2585 - accuracy: 0.8918 - val_loss: 0.3549 - val_accuracy: 0.8473\n",
            "Epoch 6/20\n",
            "782/782 [==============================] - 2s 2ms/step - loss: 0.2359 - accuracy: 0.9023 - val_loss: 0.3708 - val_accuracy: 0.8442\n",
            "Epoch 7/20\n",
            "782/782 [==============================] - 2s 2ms/step - loss: 0.2093 - accuracy: 0.9142 - val_loss: 0.4063 - val_accuracy: 0.8341\n",
            "Epoch 8/20\n",
            "782/782 [==============================] - 2s 2ms/step - loss: 0.1860 - accuracy: 0.9267 - val_loss: 0.4335 - val_accuracy: 0.8338\n",
            "Epoch 9/20\n",
            "782/782 [==============================] - 2s 2ms/step - loss: 0.1591 - accuracy: 0.9375 - val_loss: 0.4615 - val_accuracy: 0.8289\n",
            "Epoch 10/20\n",
            "782/782 [==============================] - 2s 2ms/step - loss: 0.1368 - accuracy: 0.9482 - val_loss: 0.5390 - val_accuracy: 0.8279\n",
            "Epoch 11/20\n",
            "782/782 [==============================] - 2s 2ms/step - loss: 0.1158 - accuracy: 0.9591 - val_loss: 0.5799 - val_accuracy: 0.8273\n",
            "Epoch 12/20\n",
            "782/782 [==============================] - 2s 2ms/step - loss: 0.0976 - accuracy: 0.9663 - val_loss: 0.6586 - val_accuracy: 0.8209\n",
            "Epoch 13/20\n",
            "782/782 [==============================] - 2s 2ms/step - loss: 0.0809 - accuracy: 0.9731 - val_loss: 0.7398 - val_accuracy: 0.8210\n",
            "Epoch 14/20\n",
            "782/782 [==============================] - 2s 2ms/step - loss: 0.0668 - accuracy: 0.9785 - val_loss: 0.7818 - val_accuracy: 0.8216\n",
            "Epoch 15/20\n",
            "782/782 [==============================] - 2s 2ms/step - loss: 0.0551 - accuracy: 0.9828 - val_loss: 0.8403 - val_accuracy: 0.8182\n",
            "Epoch 16/20\n",
            "782/782 [==============================] - 2s 2ms/step - loss: 0.0461 - accuracy: 0.9866 - val_loss: 0.9354 - val_accuracy: 0.8122\n",
            "Epoch 17/20\n",
            "782/782 [==============================] - 2s 2ms/step - loss: 0.0438 - accuracy: 0.9859 - val_loss: 1.0460 - val_accuracy: 0.8170\n",
            "Epoch 18/20\n",
            "782/782 [==============================] - 2s 2ms/step - loss: 0.0367 - accuracy: 0.9888 - val_loss: 1.0221 - val_accuracy: 0.8169\n",
            "Epoch 19/20\n",
            "782/782 [==============================] - 2s 2ms/step - loss: 0.0313 - accuracy: 0.9902 - val_loss: 1.0945 - val_accuracy: 0.8181\n",
            "Epoch 20/20\n",
            "782/782 [==============================] - 2s 2ms/step - loss: 0.0222 - accuracy: 0.9948 - val_loss: 1.1751 - val_accuracy: 0.8110\n",
            "Model Evaluation\n",
            "391/391 [==============================] - 1s 1ms/step - loss: 1.0962 - accuracy: 0.8207\n"
          ],
          "name": "stdout"
        },
        {
          "output_type": "execute_result",
          "data": {
            "text/plain": [
              "[1.096181035041809, 0.8207200169563293]"
            ]
          },
          "metadata": {
            "tags": []
          },
          "execution_count": 15
        }
      ]
    },
    {
      "cell_type": "markdown",
      "metadata": {
        "id": "MS0fujEqh_m3"
      },
      "source": [
        "Define the plot_learning_curves function that plots inly the losses (not the accuracy)."
      ]
    },
    {
      "cell_type": "code",
      "metadata": {
        "id": "q5EsklC0DZYH",
        "colab": {
          "base_uri": "https://localhost:8080/",
          "height": 336
        },
        "outputId": "8d459f2c-fea6-483d-bcad-1069e9b06213"
      },
      "source": [
        "def plot_learning_curves(history):\n",
        "    plt.figure(figsize=(8, 5))\n",
        "    plt.plot(history.epoch,history.history['loss'], label='train loss')\n",
        "    plt.plot(history.epoch,history.history['val_loss'], label='valid loss')\n",
        "    plt.legend()\n",
        "    plt.title('loss')\n",
        "    plt.grid(True)\n",
        "    plt.show()\n",
        "plot_learning_curves(history)"
      ],
      "execution_count": 16,
      "outputs": [
        {
          "output_type": "display_data",
          "data": {
            "image/png": "[encoded data removed]",
            "text/plain": [
              "<Figure size 576x360 with 1 Axes>"
            ]
          },
          "metadata": {
            "tags": [],
            "needs_background": "light"
          }
        }
      ]
    },
    {
      "cell_type": "markdown",
      "metadata": {
        "id": "OW4Kf4fgDfOs"
      },
      "source": [
        "### [TO COMPLETE] L1 norm\n",
        "\n",
        "One possible way to solve the overitting issue is by using regularization methods. The two most common regularization methods in Deep Learning are the L1-norm regularization and the L2-norm regularization. Both These techniques are based on limiting the capacity of models, by adding a parameter norm penalty to the objective function $\\mathcal{J}$:\n",
        "$$\n",
        "\\hat{\\mathcal{J}}(\\theta,\\mathbf{X},\\mathbf{y}) = \\mathcal{J}(\\theta,\\mathbf{X},\\mathbf{y}) + \\alpha \\Omega(\\theta)\n",
        "$$\n",
        "where $\\alpha$ is a hyperparameter that weighs the relative contribution of the norm penalty $\\Omega$.\n",
        "Lets start by considering the L1-norm regularization where the regularization term is defined as:\n",
        "$$\n",
        " \\Omega(\\theta)=||\\mathbf{W}||_1=\\sum_i |\\mathbf{w}|\n",
        "$$\n",
        "Let's find the values for the $\\alpha$ parameters that allow to remove the overfitting effect."
      ]
    },
    {
      "cell_type": "code",
      "metadata": {
        "id": "QzD8520dDgw3",
        "colab": {
          "base_uri": "https://localhost:8080/",
          "height": 1000
        },
        "outputId": "c9cd7436-2243-4eab-eec9-ef06edccd70d"
      },
      "source": [
        "#In Keras is neccesary to add the regularizer by using the attribute kernel_regularizer\n",
        "#to each layer whose weights will be considered in the Omega function.\n",
        "#is it also possibile to consider the bias by using the attribute bias_regularizer \n",
        "#tf.keras.regularizers.l1(alpha) perfroms the L1-norm regularization\n",
        "\n",
        "#[TO COMPLETE] copy the model that you previously defined that overfits the \n",
        "#trainnig data, and add the L1-norm regularization. Use a proper value for the\n",
        "#alpha hyper-parameter, that prevents the model from overfitting. The results  \n",
        "#reached by the model in terms of loss and accuracy (in all data sets) should be\n",
        "#comparable with the ones obtained by the initial model defined in Exercise 2.1 \n",
        "\n",
        "#In general, a layer that exploits L1-norm regularization is defined as follows:\n",
        "\n",
        "#model.add(keras.layers.Dense(units=[TO COMPLETE], activation=[TO COMPLETE], kernel_regularizer=tf.keras.regularizers.l1([TO COMPLETE]))) \n",
        "\n",
        "\n",
        "model = keras.models.Sequential()\n",
        "\n",
        "model.add(tf.keras.Input(shape=(num_words,))) \n",
        "model.add(keras.layers.Dense(16, activation=\"relu\",kernel_regularizer=tf.keras.regularizers.l1(1e-3)))\n",
        "model.add(keras.layers.Dense(16, activation=\"relu\",kernel_regularizer=tf.keras.regularizers.l1(1e-3))) \n",
        "model.add(keras.layers.Dense(1, activation=\"sigmoid\")) \n",
        "\n",
        "\n",
        "model.compile(loss=\"binary_crossentropy\",\n",
        "              optimizer=keras.optimizers.Adam(learning_rate=1e-3),#[TO COMPLETE] learning rate\n",
        "              metrics=[\"accuracy\"])\n",
        "\n",
        "history = model.fit(X_train, y_train, epochs=20,#[TO COMPLETE] epochs\n",
        "                    validation_data=(X_valid, y_valid))\n",
        "\n",
        "print(\"Model Evaluation\")\n",
        "model.evaluate(X_test, y_test)\n",
        "plot_learning_curves(history)"
      ],
      "execution_count": 20,
      "outputs": [
        {
          "output_type": "stream",
          "text": [
            "Epoch 1/20\n",
            "782/782 [==============================] - 3s 3ms/step - loss: 0.6124 - accuracy: 0.8245 - val_loss: 0.4928 - val_accuracy: 0.8478\n",
            "Epoch 2/20\n",
            "782/782 [==============================] - 2s 2ms/step - loss: 0.4753 - accuracy: 0.8530 - val_loss: 0.4665 - val_accuracy: 0.8478\n",
            "Epoch 3/20\n",
            "782/782 [==============================] - 2s 2ms/step - loss: 0.4506 - accuracy: 0.8562 - val_loss: 0.4594 - val_accuracy: 0.8446\n",
            "Epoch 4/20\n",
            "782/782 [==============================] - 2s 2ms/step - loss: 0.4337 - accuracy: 0.8569 - val_loss: 0.4562 - val_accuracy: 0.8404\n",
            "Epoch 5/20\n",
            "782/782 [==============================] - 2s 2ms/step - loss: 0.4233 - accuracy: 0.8590 - val_loss: 0.4458 - val_accuracy: 0.8393\n",
            "Epoch 6/20\n",
            "782/782 [==============================] - 2s 3ms/step - loss: 0.4152 - accuracy: 0.8590 - val_loss: 0.4237 - val_accuracy: 0.8521\n",
            "Epoch 7/20\n",
            "782/782 [==============================] - 2s 2ms/step - loss: 0.4067 - accuracy: 0.8609 - val_loss: 0.4178 - val_accuracy: 0.8530\n",
            "Epoch 8/20\n",
            "782/782 [==============================] - 2s 2ms/step - loss: 0.4011 - accuracy: 0.8620 - val_loss: 0.4120 - val_accuracy: 0.8512\n",
            "Epoch 9/20\n",
            "782/782 [==============================] - 2s 3ms/step - loss: 0.3924 - accuracy: 0.8657 - val_loss: 0.4082 - val_accuracy: 0.8538\n",
            "Epoch 10/20\n",
            "782/782 [==============================] - 2s 2ms/step - loss: 0.3883 - accuracy: 0.8667 - val_loss: 0.4072 - val_accuracy: 0.8554\n",
            "Epoch 11/20\n",
            "782/782 [==============================] - 2s 2ms/step - loss: 0.3843 - accuracy: 0.8639 - val_loss: 0.4045 - val_accuracy: 0.8518\n",
            "Epoch 12/20\n",
            "782/782 [==============================] - 2s 3ms/step - loss: 0.3813 - accuracy: 0.8648 - val_loss: 0.4034 - val_accuracy: 0.8523\n",
            "Epoch 13/20\n",
            "782/782 [==============================] - 2s 2ms/step - loss: 0.3782 - accuracy: 0.8663 - val_loss: 0.3985 - val_accuracy: 0.8537\n",
            "Epoch 14/20\n",
            "782/782 [==============================] - 2s 3ms/step - loss: 0.3782 - accuracy: 0.8659 - val_loss: 0.4074 - val_accuracy: 0.8467\n",
            "Epoch 15/20\n",
            "782/782 [==============================] - 2s 2ms/step - loss: 0.3757 - accuracy: 0.8646 - val_loss: 0.3931 - val_accuracy: 0.8525\n",
            "Epoch 16/20\n",
            "782/782 [==============================] - 2s 3ms/step - loss: 0.3723 - accuracy: 0.8663 - val_loss: 0.3933 - val_accuracy: 0.8535\n",
            "Epoch 17/20\n",
            "782/782 [==============================] - 2s 3ms/step - loss: 0.3724 - accuracy: 0.8648 - val_loss: 0.3937 - val_accuracy: 0.8539\n",
            "Epoch 18/20\n",
            "782/782 [==============================] - 2s 2ms/step - loss: 0.3735 - accuracy: 0.8648 - val_loss: 0.3941 - val_accuracy: 0.8514\n",
            "Epoch 19/20\n",
            "782/782 [==============================] - 2s 3ms/step - loss: 0.3699 - accuracy: 0.8677 - val_loss: 0.3899 - val_accuracy: 0.8550\n",
            "Epoch 20/20\n",
            "782/782 [==============================] - 2s 3ms/step - loss: 0.3694 - accuracy: 0.8676 - val_loss: 0.3980 - val_accuracy: 0.8487\n",
            "Model Evaluation\n",
            "391/391 [==============================] - 0s 1ms/step - loss: 0.3785 - accuracy: 0.8623\n"
          ],
          "name": "stdout"
        },
        {
          "output_type": "display_data",
          "data": {
            "image/png": "[encoded data removed]",
            "text/plain": [
              "<Figure size 576x360 with 1 Axes>"
            ]
          },
          "metadata": {
            "tags": [],
            "needs_background": "light"
          }
        }
      ]
    },
    {
      "cell_type": "markdown",
      "metadata": {
        "id": "CgnCGYUvDqbC"
      },
      "source": [
        "### [TO COMPLETE] L2-norm\n",
        "\n",
        "L2-norm regularization is also known as weight decay. This strategy drives the weights closer to the origin by adding the regularization term omega which is defined as:\n",
        "$$\n",
        " \\Omega(\\theta)=\\frac{1}{2}||\\mathbf{W}||_2^2\n",
        "$$\n",
        "\n",
        "Let's find the values for the $\\alpha$ parameters that allow removing remove the overfitting effect with L2-norm."
      ]
    },
    {
      "cell_type": "code",
      "metadata": {
        "id": "qqNhu350DtJo",
        "colab": {
          "base_uri": "https://localhost:8080/",
          "height": 1000
        },
        "outputId": "0cfbba55-42c7-47dd-abbb-148e6b1afaaf"
      },
      "source": [
        "#[TO COMPLETE] insert the model that you previously defined that overfit the \n",
        "#trainig data, and add the L2-norm regularization. Use proper values for the\n",
        "#alpha hyper-parameters, that prevents the model from overfitting. The results  \n",
        "#reached by the model in terms of loss and accuracy (in all data sets) should be\n",
        "#comparable with the ones obtained by the initial model defined in Exercise 2.1\n",
        "\n",
        "#In general, a layer that exploits L2-norm regularization is defined as follow:\n",
        "\n",
        "#model.add(keras.layers.Dense(units=[TO COMPLETE], activation=[TO COMPLETE],kernel_regularizer=tf.keras.regularizers.l2([TO COMPLETE]))) \n",
        "\n",
        "model = keras.models.Sequential()\n",
        "model.add(tf.keras.Input(shape=(num_words,))) \n",
        "model.add(keras.layers.Dense(16, activation=\"relu\",kernel_regularizer=tf.keras.regularizers.l2(1e-2)))\n",
        "model.add(keras.layers.Dense(16, activation=\"relu\",kernel_regularizer=tf.keras.regularizers.l2(1e-2)))\n",
        "model.add(keras.layers.Dense(1, activation=\"sigmoid\")) \n",
        "\n",
        "\n",
        "\n",
        "\n",
        "\n",
        "#[TO COMPLETE]\n",
        "\n",
        "model.compile(loss=\"binary_crossentropy\",\n",
        "              optimizer=keras.optimizers.Adam(learning_rate=1e-3),#[TO COMPLETE] learning rate\n",
        "              metrics=[\"accuracy\"])\n",
        "\n",
        "history = model.fit(X_train, y_train, epochs=20,#[TO COMPLETE] epochs\n",
        "                    validation_data=(X_valid, y_valid))\n",
        "\n",
        "print(\"Model Evaluation\")\n",
        "model.evaluate(X_test, y_test)\n",
        "plot_learning_curves(history)"
      ],
      "execution_count": 31,
      "outputs": [
        {
          "output_type": "stream",
          "text": [
            "Epoch 1/20\n",
            "782/782 [==============================] - 3s 3ms/step - loss: 0.5605 - accuracy: 0.8203 - val_loss: 0.4560 - val_accuracy: 0.8490\n",
            "Epoch 2/20\n",
            "782/782 [==============================] - 2s 3ms/step - loss: 0.4441 - accuracy: 0.8498 - val_loss: 0.4392 - val_accuracy: 0.8461\n",
            "Epoch 3/20\n",
            "782/782 [==============================] - 2s 3ms/step - loss: 0.4274 - accuracy: 0.8536 - val_loss: 0.4325 - val_accuracy: 0.8423\n",
            "Epoch 4/20\n",
            "782/782 [==============================] - 2s 2ms/step - loss: 0.4138 - accuracy: 0.8544 - val_loss: 0.4297 - val_accuracy: 0.8407\n",
            "Epoch 5/20\n",
            "782/782 [==============================] - 2s 3ms/step - loss: 0.4058 - accuracy: 0.8545 - val_loss: 0.4298 - val_accuracy: 0.8374\n",
            "Epoch 6/20\n",
            "782/782 [==============================] - 2s 3ms/step - loss: 0.4000 - accuracy: 0.8554 - val_loss: 0.4062 - val_accuracy: 0.8509\n",
            "Epoch 7/20\n",
            "782/782 [==============================] - 2s 2ms/step - loss: 0.3930 - accuracy: 0.8577 - val_loss: 0.4008 - val_accuracy: 0.8531\n",
            "Epoch 8/20\n",
            "782/782 [==============================] - 2s 2ms/step - loss: 0.3894 - accuracy: 0.8585 - val_loss: 0.3998 - val_accuracy: 0.8502\n",
            "Epoch 9/20\n",
            "782/782 [==============================] - 2s 3ms/step - loss: 0.3832 - accuracy: 0.8614 - val_loss: 0.3956 - val_accuracy: 0.8529\n",
            "Epoch 10/20\n",
            "782/782 [==============================] - 2s 2ms/step - loss: 0.3809 - accuracy: 0.8612 - val_loss: 0.3952 - val_accuracy: 0.8498\n",
            "Epoch 11/20\n",
            "782/782 [==============================] - 2s 2ms/step - loss: 0.3781 - accuracy: 0.8614 - val_loss: 0.4084 - val_accuracy: 0.8414\n",
            "Epoch 12/20\n",
            "782/782 [==============================] - 2s 2ms/step - loss: 0.3750 - accuracy: 0.8602 - val_loss: 0.3909 - val_accuracy: 0.8539\n",
            "Epoch 13/20\n",
            "782/782 [==============================] - 2s 3ms/step - loss: 0.3708 - accuracy: 0.8639 - val_loss: 0.3932 - val_accuracy: 0.8518\n",
            "Epoch 14/20\n",
            "782/782 [==============================] - 2s 2ms/step - loss: 0.3714 - accuracy: 0.8624 - val_loss: 0.4044 - val_accuracy: 0.8427\n",
            "Epoch 15/20\n",
            "782/782 [==============================] - 2s 2ms/step - loss: 0.3677 - accuracy: 0.8617 - val_loss: 0.3883 - val_accuracy: 0.8506\n",
            "Epoch 16/20\n",
            "782/782 [==============================] - 2s 2ms/step - loss: 0.3641 - accuracy: 0.8621 - val_loss: 0.3896 - val_accuracy: 0.8513\n",
            "Epoch 17/20\n",
            "782/782 [==============================] - 2s 2ms/step - loss: 0.3636 - accuracy: 0.8622 - val_loss: 0.3829 - val_accuracy: 0.8546\n",
            "Epoch 18/20\n",
            "782/782 [==============================] - 2s 2ms/step - loss: 0.3634 - accuracy: 0.8626 - val_loss: 0.3872 - val_accuracy: 0.8514\n",
            "Epoch 19/20\n",
            "782/782 [==============================] - 2s 2ms/step - loss: 0.3592 - accuracy: 0.8631 - val_loss: 0.3816 - val_accuracy: 0.8534\n",
            "Epoch 20/20\n",
            "782/782 [==============================] - 2s 2ms/step - loss: 0.3586 - accuracy: 0.8632 - val_loss: 0.3869 - val_accuracy: 0.8505\n",
            "Model Evaluation\n",
            "391/391 [==============================] - 0s 1ms/step - loss: 0.3732 - accuracy: 0.8599\n"
          ],
          "name": "stdout"
        },
        {
          "output_type": "display_data",
          "data": {
            "image/png": "[encoded data removed]",
            "text/plain": [
              "<Figure size 576x360 with 1 Axes>"
            ]
          },
          "metadata": {
            "tags": [],
            "needs_background": "light"
          }
        }
      ]
    },
    {
      "cell_type": "markdown",
      "metadata": {
        "id": "xvyKPb4DD25G"
      },
      "source": [
        "###[TO COMPLETE] Early stopping\n",
        "\n",
        "Early Stopping is a form of regularization used to avoid overfitting. It is designed to monitor the generalization error of one model and stop training when generalization error begins to degrade. In order to evaluate the generalization error, early stopping requires that a validation dataset is evaluated during training. Then, when the validation error does not improve for a specific number of epochs (patience hyper-parameter), it stops the training phase."
      ]
    },
    {
      "cell_type": "code",
      "metadata": {
        "id": "MqNOOZ11D7cq",
        "colab": {
          "base_uri": "https://localhost:8080/",
          "height": 506
        },
        "outputId": "9163d8c7-582c-40a2-b3cc-6c3161d7b7cc"
      },
      "source": [
        "#[TO COMPLETE] insert the model that you previously defined that overfit the \n",
        "#trainnig data\n",
        "\n",
        "\n",
        "model = keras.models.Sequential()\n",
        "#[TO COMPLETE] modify the previuos model in order to obtain a new mdel that overfit the training data\n",
        "model.add(tf.keras.Input(shape=(num_words,))) \n",
        "model.add(keras.layers.Dense(16, activation=\"relu\")) \n",
        "model.add(keras.layers.Dense(16, activation=\"relu\")) \n",
        "model.add(keras.layers.Dense(1, activation=\"sigmoid\")) \n",
        "\n",
        "\n",
        "model.compile(loss=\"binary_crossentropy\",\n",
        "              optimizer=keras.optimizers.Adam(learning_rate=1e-3),#[TO COMPLETE] learning rate\n",
        "\n",
        "              metrics=[\"accuracy\"])\n",
        "\n",
        "#Let's define a log dir in order to save the checkpoint file\n",
        "logdir = os.path.join(os.curdir, \"my_logs\", \"run_{}\".format(time.time()))\n",
        "\n",
        "#In Keras the Eraly stopping is manage by using the callbacks argument.\n",
        "callbacks = [\n",
        "    keras.callbacks.TensorBoard(logdir),\n",
        "    keras.callbacks.EarlyStopping(patience=4),#[TO COMPLETE] play with patience and find the value that prevents the model from overfitting.\n",
        "\n",
        "\n",
        "    #Saving the checkpoints file allows to load the \"best\" model when the Early \n",
        "    #stopping detect that the generalization error degrade (after 'patience' epochs)\n",
        "    keras.callbacks.ModelCheckpoint(\"my_mnist_model.h5\", save_best_only=True),\n",
        "]\n",
        "\n",
        "history = model.fit(X_train, y_train, epochs=4,#[TO COMPLETE] epochs\n",
        "                    validation_data=(X_valid, y_valid),\n",
        "                    callbacks=callbacks)\n",
        "\n",
        "print(\"Model Evaluation\")\n",
        "#The early stopping stopped training after few epochs without progress, so your\n",
        "#model may already have started to overfit the training set. Since the \n",
        "#ModelCheckpoint callback only saved the best models (on the validation set) the\n",
        "#last saved model is the best on the validation set.\n",
        "model = keras.models.load_model(\"my_mnist_model.h5\")\n",
        "model.evaluate(X_test, y_test)\n",
        "plot_learning_curves(history)"
      ],
      "execution_count": 35,
      "outputs": [
        {
          "output_type": "stream",
          "text": [
            "Epoch 1/4\n",
            "782/782 [==============================] - 3s 3ms/step - loss: 0.3885 - accuracy: 0.8290 - val_loss: 0.3540 - val_accuracy: 0.8483\n",
            "Epoch 2/4\n",
            "782/782 [==============================] - 2s 2ms/step - loss: 0.3218 - accuracy: 0.8646 - val_loss: 0.3337 - val_accuracy: 0.8552\n",
            "Epoch 3/4\n",
            "782/782 [==============================] - 2s 2ms/step - loss: 0.3081 - accuracy: 0.8695 - val_loss: 0.3428 - val_accuracy: 0.8498\n",
            "Epoch 4/4\n",
            "782/782 [==============================] - 2s 2ms/step - loss: 0.2958 - accuracy: 0.8729 - val_loss: 0.3358 - val_accuracy: 0.8511\n",
            "Model Evaluation\n",
            "391/391 [==============================] - 1s 1ms/step - loss: 0.3153 - accuracy: 0.8646\n"
          ],
          "name": "stdout"
        },
        {
          "output_type": "display_data",
          "data": {
            "image/png": "[encoded data removed]",
            "text/plain": [
              "<Figure size 576x360 with 1 Axes>"
            ]
          },
          "metadata": {
            "tags": [],
            "needs_background": "light"
          }
        }
      ]
    },
    {
      "cell_type": "markdown",
      "metadata": {
        "id": "DCV8pwVzl9GK"
      },
      "source": [
        "## Exercise 2.3: Model Selection\n",
        "\n",
        "Hyperparameters are the parameters of the learning method itself which we have to specify a priori, i.e., before model fitting. In contrast, model parameters are parameters which arise as a result of the fit (the network weights). The aim of model selection is selecting the best hyperparameters for our deep network. Finding the right hyperparameters for a model can be crucial for the model performance on given data. For istance lets consider our model trained by using different values for the learning rate: "
      ]
    },
    {
      "cell_type": "code",
      "metadata": {
        "id": "Fw8Hs-AEmLKh"
      },
      "source": [
        "learning_rates = [1e-4, 1e-2, 1e-1]"
      ],
      "execution_count": 32,
      "outputs": []
    },
    {
      "cell_type": "code",
      "metadata": {
        "id": "mym4GOgUmWqD",
        "colab": {
          "base_uri": "https://localhost:8080/"
        },
        "outputId": "36303e90-5ffc-43aa-c7fc-c172c1cab9b9"
      },
      "source": [
        "histories = []\n",
        "for learning_rate in learning_rates:\n",
        "    model = keras.models.Sequential([\n",
        "                                    tf.keras.Input(shape=(num_words,)),\n",
        "                                    keras.layers.Dense(16, activation=\"relu\"),\n",
        "                                    keras.layers.Dense(16, activation=\"relu\"),\n",
        "                                    keras.layers.Dense(1, activation=\"sigmoid\")\n",
        "                                     ])\n",
        "    model.compile(loss=\"binary_crossentropy\",\n",
        "              optimizer=keras.optimizers.Adam(learning_rate=learning_rate),\n",
        "              metrics=[\"accuracy\"])\n",
        "              \n",
        "    callbacks = [keras.callbacks.EarlyStopping(patience=2)]\n",
        "\n",
        "    history = model.fit(X_train, y_train,\n",
        "                        validation_data=(X_valid, y_valid), epochs=10,\n",
        "                        callbacks=callbacks)\n",
        "    histories.append(history)\n",
        "    print(\"evaluation on test set\")\n",
        "    model.evaluate(X_test, y_test)"
      ],
      "execution_count": 33,
      "outputs": [
        {
          "output_type": "stream",
          "text": [
            "Epoch 1/10\n",
            "782/782 [==============================] - 2s 3ms/step - loss: 0.6008 - accuracy: 0.6860 - val_loss: 0.4707 - val_accuracy: 0.8039\n",
            "Epoch 2/10\n",
            "782/782 [==============================] - 2s 2ms/step - loss: 0.4019 - accuracy: 0.8364 - val_loss: 0.3728 - val_accuracy: 0.8415\n",
            "Epoch 3/10\n",
            "782/782 [==============================] - 2s 2ms/step - loss: 0.3430 - accuracy: 0.8590 - val_loss: 0.3482 - val_accuracy: 0.8520\n",
            "Epoch 4/10\n",
            "782/782 [==============================] - 2s 3ms/step - loss: 0.3214 - accuracy: 0.8679 - val_loss: 0.3380 - val_accuracy: 0.8569\n",
            "Epoch 5/10\n",
            "782/782 [==============================] - 2s 2ms/step - loss: 0.3109 - accuracy: 0.8717 - val_loss: 0.3361 - val_accuracy: 0.8581\n",
            "Epoch 6/10\n",
            "782/782 [==============================] - 2s 2ms/step - loss: 0.3051 - accuracy: 0.8746 - val_loss: 0.3337 - val_accuracy: 0.8572\n",
            "Epoch 7/10\n",
            "782/782 [==============================] - 2s 3ms/step - loss: 0.3010 - accuracy: 0.8749 - val_loss: 0.3342 - val_accuracy: 0.8576\n",
            "Epoch 8/10\n",
            "782/782 [==============================] - 2s 2ms/step - loss: 0.2984 - accuracy: 0.8777 - val_loss: 0.3348 - val_accuracy: 0.8560\n",
            "evaluation on test set\n",
            "391/391 [==============================] - 0s 1ms/step - loss: 0.3164 - accuracy: 0.8677\n",
            "Epoch 1/10\n",
            "782/782 [==============================] - 2s 2ms/step - loss: 0.3663 - accuracy: 0.8386 - val_loss: 0.3391 - val_accuracy: 0.8481\n",
            "Epoch 2/10\n",
            "782/782 [==============================] - 2s 2ms/step - loss: 0.3144 - accuracy: 0.8657 - val_loss: 0.3400 - val_accuracy: 0.8515\n",
            "Epoch 3/10\n",
            "782/782 [==============================] - 2s 2ms/step - loss: 0.2944 - accuracy: 0.8740 - val_loss: 0.3527 - val_accuracy: 0.8471\n",
            "evaluation on test set\n",
            "391/391 [==============================] - 0s 1ms/step - loss: 0.3264 - accuracy: 0.8609\n",
            "Epoch 1/10\n",
            "782/782 [==============================] - 2s 3ms/step - loss: 0.6992 - accuracy: 0.5001 - val_loss: 0.6932 - val_accuracy: 0.5053\n",
            "Epoch 2/10\n",
            "782/782 [==============================] - 2s 3ms/step - loss: 0.6953 - accuracy: 0.5019 - val_loss: 0.6931 - val_accuracy: 0.5053\n",
            "Epoch 3/10\n",
            "782/782 [==============================] - 2s 2ms/step - loss: 0.6951 - accuracy: 0.4950 - val_loss: 0.7039 - val_accuracy: 0.4947\n",
            "Epoch 4/10\n",
            "782/782 [==============================] - 2s 2ms/step - loss: 0.6950 - accuracy: 0.5010 - val_loss: 0.6975 - val_accuracy: 0.4947\n",
            "evaluation on test set\n",
            "391/391 [==============================] - 0s 1ms/step - loss: 0.6957 - accuracy: 0.5053\n"
          ],
          "name": "stdout"
        }
      ]
    },
    {
      "cell_type": "markdown",
      "metadata": {
        "id": "RzTSjfwptkHJ"
      },
      "source": [
        "Let's plot the results"
      ]
    },
    {
      "cell_type": "code",
      "metadata": {
        "id": "cIlN1vlioIYh",
        "colab": {
          "base_uri": "https://localhost:8080/",
          "height": 980
        },
        "outputId": "06a09c5c-c76a-4a7d-f5c0-81608379133d"
      },
      "source": [
        "for learning_rate, history in zip(learning_rates, histories):\n",
        "    print(\"Learning rate:\", learning_rate)\n",
        "    plot_learning_acc_and_loss(history)"
      ],
      "execution_count": 34,
      "outputs": [
        {
          "output_type": "stream",
          "text": [
            "Learning rate: 0.0001\n"
          ],
          "name": "stdout"
        },
        {
          "output_type": "display_data",
          "data": {
            "image/png": "[encoded data removed]",
            "text/plain": [
              "<Figure size 576x360 with 1 Axes>"
            ]
          },
          "metadata": {
            "tags": [],
            "needs_background": "light"
          }
        },
        {
          "output_type": "stream",
          "text": [
            "Learning rate: 0.01\n"
          ],
          "name": "stdout"
        },
        {
          "output_type": "display_data",
          "data": {
            "image/png": "[encoded data removed]",
            "text/plain": [
              "<Figure size 576x360 with 1 Axes>"
            ]
          },
          "metadata": {
            "tags": [],
            "needs_background": "light"
          }
        },
        {
          "output_type": "stream",
          "text": [
            "Learning rate: 0.1\n"
          ],
          "name": "stdout"
        },
        {
          "output_type": "display_data",
          "data": {
            "image/png": "[encoded data removed]",
            "text/plain": [
              "<Figure size 576x360 with 1 Axes>"
            ]
          },
          "metadata": {
            "tags": [],
            "needs_background": "light"
          }
        }
      ]
    },
    {
      "cell_type": "markdown",
      "metadata": {
        "id": "_JntujSWq3e5"
      },
      "source": [
        "### [TO COMPLETE] GRID Search:\n",
        "\n",
        "Since a deep net has many hyperparameters, in order to find the best ones, we have to consider all the possible combinations of all of the possible values. One common method to perform this complex task is Grid-Search.\n",
        "Given a set of values for each hyper-parameter, Grid-Search will build a model on each parameter combination possible. It iterates through every parameter combination and stores a model for each combination. Finally, the model that obtained the best result on the validation set will be select.\n",
        "\n",
        "In order to perfrom Grid-Search we will use the GridSearchCV method from scikit-learn."
      ]
    },
    {
      "cell_type": "markdown",
      "metadata": {
        "id": "CPz629YSrDhN"
      },
      "source": [
        "Let's Create a build_model() function that takes two arguments, n_neurons, learning_rate, and builds, compiles and returns a model with the given number of of neurons and the given learning rate.\n",
        "In order to limit the time requirements of the process we will consider only these two hyper-paramters.\n",
        "\n",
        "[TO COMPLETE] in the following code cell define the build_model function."
      ]
    },
    {
      "cell_type": "code",
      "metadata": {
        "id": "oGSKWTTtqxZ4"
      },
      "source": [
        "def build_model(n_units=30, learning_rate=1e-3):\n",
        "    # The function has to build a model similar to the ones we used in previuous execises:\n",
        "    #- a input layer \n",
        "    #- one or two Dense layers composed of n_units and that exploit Relu activation function \n",
        "    #- the output layer that uses the sigmoid activation function\n",
        "    # Then, the model has to be compiled.\n",
        "    model = keras.models.Sequential([\n",
        "      tf.keras.Input(shape=(num_words,)),\n",
        "      keras.layers.Dense(n_units, activation=\"relu\"),\n",
        "      keras.layers.Dense(n_units, activation=\"relu\"),\n",
        "      keras.layers.Dense(1, activation=\"sigmoid\")\n",
        "    ])\n",
        "    \n",
        "    # [TO COMPLETE] Then, the model has to be compiled.\n",
        "    \n",
        "    model.compile(loss=\"binary_crossentropy\",optimizer=keras.optimizers.Adam(learning_rate),metrics=[\"accuracy\"])\n",
        "    \n",
        "    return model\n",
        "\n",
        "    \n",
        "#Create a keras.wrappers.scikit_learn.KerasRegressor and pass the build_model \n",
        "#function to the constructor. This gives you a Scikit-Learn compatible predictor\n",
        "keras_reg = keras.wrappers.scikit_learn.KerasRegressor(build_model)"
      ],
      "execution_count": 36,
      "outputs": []
    },
    {
      "cell_type": "markdown",
      "metadata": {
        "id": "PS6W3A2LxDg5"
      },
      "source": [
        "Let's define the lists of hyper-parameters' values. Also in this case, we use a very limited size lists, but in a real-world scenario a reasonable amount of possible values should be considered (try to add some values and check how much the time required to perform the Grid-Search increases)"
      ]
    },
    {
      "cell_type": "code",
      "metadata": {
        "id": "y-uldCW3ru24"
      },
      "source": [
        "param_distribs = {\n",
        "    \"n_units\": [10,15,20],# [TO COMPLETE] insert a list that contains few (2 or 3) reasonable value\n",
        "    \"learning_rate\": [1e-3,1e-2] #[TO COMPLETE] insert a list that contains few (2 or 3) reasonable values\n",
        "    #Check how the time required to perform GRID search increases when increasing the number of values for each hyper-parameter.\n",
        "}"
      ],
      "execution_count": 37,
      "outputs": []
    },
    {
      "cell_type": "markdown",
      "metadata": {
        "id": "bEiBxVYtx_sK"
      },
      "source": [
        "Use a sklearn.model_selection.GridSearchCV to search the hyperparameter space of your KerasRegressor"
      ]
    },
    {
      "cell_type": "code",
      "metadata": {
        "id": "iobF2Bvdr9ER"
      },
      "source": [
        "from sklearn.model_selection import GridSearchCV\n",
        "\n",
        "grid_search = GridSearchCV(keras_reg, param_distribs)"
      ],
      "execution_count": 38,
      "outputs": []
    },
    {
      "cell_type": "markdown",
      "metadata": {
        "id": "LVGMcZz_yKSX"
      },
      "source": [
        "Run the Grid-Search"
      ]
    },
    {
      "cell_type": "code",
      "metadata": {
        "id": "-BA3vgTjr-hw",
        "colab": {
          "base_uri": "https://localhost:8080/"
        },
        "outputId": "d02cf9b3-9a00-45c7-9b47-6aaf5f5af86b"
      },
      "source": [
        "\n",
        "grid_search.fit(X_train.numpy(), y_train, epochs=5,#The number of epochs can be modified (check what happens by increasing it)\n",
        "                validation_data=(X_valid.numpy(), y_valid))"
      ],
      "execution_count": 39,
      "outputs": [
        {
          "output_type": "stream",
          "text": [
            "Epoch 1/5\n",
            "625/625 [==============================] - 2s 3ms/step - loss: 0.4081 - accuracy: 0.8167 - val_loss: 0.3405 - val_accuracy: 0.8553\n",
            "Epoch 2/5\n",
            "625/625 [==============================] - 1s 2ms/step - loss: 0.3218 - accuracy: 0.8659 - val_loss: 0.3414 - val_accuracy: 0.8534\n",
            "Epoch 3/5\n",
            "625/625 [==============================] - 1s 2ms/step - loss: 0.3114 - accuracy: 0.8692 - val_loss: 0.3467 - val_accuracy: 0.8517\n",
            "Epoch 4/5\n",
            "625/625 [==============================] - 2s 3ms/step - loss: 0.3004 - accuracy: 0.8761 - val_loss: 0.3421 - val_accuracy: 0.8510\n",
            "Epoch 5/5\n",
            "625/625 [==============================] - 1s 2ms/step - loss: 0.2896 - accuracy: 0.8805 - val_loss: 0.3541 - val_accuracy: 0.8474\n",
            "157/157 [==============================] - 0s 1ms/step - loss: 0.3518 - accuracy: 0.8530\n",
            "Epoch 1/5\n",
            "625/625 [==============================] - 2s 3ms/step - loss: 0.4044 - accuracy: 0.8177 - val_loss: 0.3377 - val_accuracy: 0.8570\n",
            "Epoch 2/5\n",
            "625/625 [==============================] - 2s 3ms/step - loss: 0.3196 - accuracy: 0.8668 - val_loss: 0.3384 - val_accuracy: 0.8541\n",
            "Epoch 3/5\n",
            "625/625 [==============================] - 2s 3ms/step - loss: 0.3093 - accuracy: 0.8702 - val_loss: 0.3525 - val_accuracy: 0.8482\n",
            "Epoch 4/5\n",
            "625/625 [==============================] - 1s 2ms/step - loss: 0.2980 - accuracy: 0.8747 - val_loss: 0.3389 - val_accuracy: 0.8526\n",
            "Epoch 5/5\n",
            "625/625 [==============================] - 1s 2ms/step - loss: 0.2858 - accuracy: 0.8788 - val_loss: 0.3439 - val_accuracy: 0.8513\n",
            "157/157 [==============================] - 0s 1ms/step - loss: 0.3335 - accuracy: 0.8552\n",
            "Epoch 1/5\n",
            "625/625 [==============================] - 2s 3ms/step - loss: 0.4066 - accuracy: 0.8102 - val_loss: 0.3384 - val_accuracy: 0.8524\n",
            "Epoch 2/5\n",
            "625/625 [==============================] - 1s 2ms/step - loss: 0.3201 - accuracy: 0.8669 - val_loss: 0.3380 - val_accuracy: 0.8546\n",
            "Epoch 3/5\n",
            "625/625 [==============================] - 1s 2ms/step - loss: 0.3075 - accuracy: 0.8698 - val_loss: 0.3428 - val_accuracy: 0.8508\n",
            "Epoch 4/5\n",
            "625/625 [==============================] - 2s 3ms/step - loss: 0.2933 - accuracy: 0.8758 - val_loss: 0.3363 - val_accuracy: 0.8526\n",
            "Epoch 5/5\n",
            "625/625 [==============================] - 2s 3ms/step - loss: 0.2782 - accuracy: 0.8798 - val_loss: 0.3371 - val_accuracy: 0.8501\n",
            "157/157 [==============================] - 0s 1ms/step - loss: 0.3425 - accuracy: 0.8504\n",
            "Epoch 1/5\n",
            "625/625 [==============================] - 2s 3ms/step - loss: 0.4102 - accuracy: 0.8170 - val_loss: 0.3460 - val_accuracy: 0.8510\n",
            "Epoch 2/5\n",
            "625/625 [==============================] - 1s 2ms/step - loss: 0.3211 - accuracy: 0.8663 - val_loss: 0.3376 - val_accuracy: 0.8539\n",
            "Epoch 3/5\n",
            "625/625 [==============================] - 1s 2ms/step - loss: 0.3066 - accuracy: 0.8709 - val_loss: 0.3410 - val_accuracy: 0.8504\n",
            "Epoch 4/5\n",
            "625/625 [==============================] - 1s 2ms/step - loss: 0.2982 - accuracy: 0.8731 - val_loss: 0.3375 - val_accuracy: 0.8542\n",
            "Epoch 5/5\n",
            "625/625 [==============================] - 1s 2ms/step - loss: 0.2869 - accuracy: 0.8778 - val_loss: 0.3405 - val_accuracy: 0.8498\n",
            "157/157 [==============================] - 0s 1ms/step - loss: 0.3337 - accuracy: 0.8526\n",
            "Epoch 1/5\n",
            "625/625 [==============================] - 2s 3ms/step - loss: 0.4117 - accuracy: 0.8119 - val_loss: 0.3578 - val_accuracy: 0.8449\n",
            "Epoch 2/5\n",
            "625/625 [==============================] - 1s 2ms/step - loss: 0.3223 - accuracy: 0.8651 - val_loss: 0.3448 - val_accuracy: 0.8523\n",
            "Epoch 3/5\n",
            "625/625 [==============================] - 1s 2ms/step - loss: 0.3101 - accuracy: 0.8691 - val_loss: 0.3542 - val_accuracy: 0.8454\n",
            "Epoch 4/5\n",
            "625/625 [==============================] - 2s 3ms/step - loss: 0.2970 - accuracy: 0.8755 - val_loss: 0.3471 - val_accuracy: 0.8498\n",
            "Epoch 5/5\n",
            "625/625 [==============================] - 1s 2ms/step - loss: 0.2810 - accuracy: 0.8823 - val_loss: 0.3486 - val_accuracy: 0.8492\n",
            "157/157 [==============================] - 0s 1ms/step - loss: 0.3346 - accuracy: 0.8574\n",
            "Epoch 1/5\n",
            "625/625 [==============================] - 2s 3ms/step - loss: 0.4021 - accuracy: 0.8185 - val_loss: 0.3432 - val_accuracy: 0.8540\n",
            "Epoch 2/5\n",
            "625/625 [==============================] - 2s 3ms/step - loss: 0.3217 - accuracy: 0.8666 - val_loss: 0.3443 - val_accuracy: 0.8510\n",
            "Epoch 3/5\n",
            "625/625 [==============================] - 2s 3ms/step - loss: 0.3065 - accuracy: 0.8709 - val_loss: 0.3476 - val_accuracy: 0.8502\n",
            "Epoch 4/5\n",
            "625/625 [==============================] - 1s 2ms/step - loss: 0.2875 - accuracy: 0.8795 - val_loss: 0.3423 - val_accuracy: 0.8503\n",
            "Epoch 5/5\n",
            "625/625 [==============================] - 1s 2ms/step - loss: 0.2697 - accuracy: 0.8876 - val_loss: 0.3660 - val_accuracy: 0.8418\n",
            "157/157 [==============================] - 0s 1ms/step - loss: 0.3555 - accuracy: 0.8506\n",
            "Epoch 1/5\n",
            "625/625 [==============================] - 2s 3ms/step - loss: 0.4087 - accuracy: 0.8155 - val_loss: 0.3404 - val_accuracy: 0.8526\n",
            "Epoch 2/5\n",
            "625/625 [==============================] - 2s 3ms/step - loss: 0.3194 - accuracy: 0.8677 - val_loss: 0.3371 - val_accuracy: 0.8549\n",
            "Epoch 3/5\n",
            "625/625 [==============================] - 1s 2ms/step - loss: 0.2988 - accuracy: 0.8738 - val_loss: 0.3530 - val_accuracy: 0.8437\n",
            "Epoch 4/5\n",
            "625/625 [==============================] - 1s 2ms/step - loss: 0.2776 - accuracy: 0.8840 - val_loss: 0.3421 - val_accuracy: 0.8506\n",
            "Epoch 5/5\n",
            "625/625 [==============================] - 2s 2ms/step - loss: 0.2507 - accuracy: 0.8972 - val_loss: 0.3589 - val_accuracy: 0.8465\n",
            "157/157 [==============================] - 0s 1ms/step - loss: 0.3508 - accuracy: 0.8504\n",
            "Epoch 1/5\n",
            "625/625 [==============================] - 2s 3ms/step - loss: 0.4014 - accuracy: 0.8181 - val_loss: 0.3380 - val_accuracy: 0.8538\n",
            "Epoch 2/5\n",
            "625/625 [==============================] - 1s 2ms/step - loss: 0.3170 - accuracy: 0.8681 - val_loss: 0.3351 - val_accuracy: 0.8539\n",
            "Epoch 3/5\n",
            "625/625 [==============================] - 2s 3ms/step - loss: 0.3010 - accuracy: 0.8726 - val_loss: 0.3430 - val_accuracy: 0.8485\n",
            "Epoch 4/5\n",
            "625/625 [==============================] - 2s 3ms/step - loss: 0.2850 - accuracy: 0.8802 - val_loss: 0.3399 - val_accuracy: 0.8508\n",
            "Epoch 5/5\n",
            "625/625 [==============================] - 2s 3ms/step - loss: 0.2649 - accuracy: 0.8855 - val_loss: 0.3496 - val_accuracy: 0.8458\n",
            "157/157 [==============================] - 0s 1ms/step - loss: 0.3473 - accuracy: 0.8496\n",
            "Epoch 1/5\n",
            "625/625 [==============================] - 2s 2ms/step - loss: 0.4070 - accuracy: 0.8130 - val_loss: 0.3536 - val_accuracy: 0.8470\n",
            "Epoch 2/5\n",
            "625/625 [==============================] - 2s 3ms/step - loss: 0.3194 - accuracy: 0.8656 - val_loss: 0.3362 - val_accuracy: 0.8547\n",
            "Epoch 3/5\n",
            "625/625 [==============================] - 1s 2ms/step - loss: 0.3042 - accuracy: 0.8723 - val_loss: 0.3429 - val_accuracy: 0.8521\n",
            "Epoch 4/5\n",
            "625/625 [==============================] - 2s 3ms/step - loss: 0.2911 - accuracy: 0.8783 - val_loss: 0.3396 - val_accuracy: 0.8535\n",
            "Epoch 5/5\n",
            "625/625 [==============================] - 2s 3ms/step - loss: 0.2742 - accuracy: 0.8853 - val_loss: 0.3457 - val_accuracy: 0.8524\n",
            "157/157 [==============================] - 0s 1ms/step - loss: 0.3440 - accuracy: 0.8544\n",
            "Epoch 1/5\n",
            "625/625 [==============================] - 3s 3ms/step - loss: 0.4050 - accuracy: 0.8162 - val_loss: 0.3522 - val_accuracy: 0.8482\n",
            "Epoch 2/5\n",
            "625/625 [==============================] - 2s 3ms/step - loss: 0.3185 - accuracy: 0.8654 - val_loss: 0.3355 - val_accuracy: 0.8536\n",
            "Epoch 3/5\n",
            "625/625 [==============================] - 2s 3ms/step - loss: 0.3021 - accuracy: 0.8716 - val_loss: 0.3481 - val_accuracy: 0.8445\n",
            "Epoch 4/5\n",
            "625/625 [==============================] - 2s 3ms/step - loss: 0.2880 - accuracy: 0.8778 - val_loss: 0.3378 - val_accuracy: 0.8513\n",
            "Epoch 5/5\n",
            "625/625 [==============================] - 1s 2ms/step - loss: 0.2720 - accuracy: 0.8849 - val_loss: 0.3422 - val_accuracy: 0.8462\n",
            "157/157 [==============================] - 0s 1ms/step - loss: 0.3324 - accuracy: 0.8632\n",
            "Epoch 1/5\n",
            "625/625 [==============================] - 2s 3ms/step - loss: 0.3954 - accuracy: 0.8225 - val_loss: 0.3411 - val_accuracy: 0.8541\n",
            "Epoch 2/5\n",
            "625/625 [==============================] - 2s 3ms/step - loss: 0.3168 - accuracy: 0.8674 - val_loss: 0.3371 - val_accuracy: 0.8514\n",
            "Epoch 3/5\n",
            "625/625 [==============================] - 1s 2ms/step - loss: 0.2932 - accuracy: 0.8752 - val_loss: 0.3450 - val_accuracy: 0.8466\n",
            "Epoch 4/5\n",
            "625/625 [==============================] - 1s 2ms/step - loss: 0.2636 - accuracy: 0.8893 - val_loss: 0.3487 - val_accuracy: 0.8474\n",
            "Epoch 5/5\n",
            "625/625 [==============================] - 2s 3ms/step - loss: 0.2323 - accuracy: 0.9046 - val_loss: 0.3853 - val_accuracy: 0.8366\n",
            "157/157 [==============================] - 0s 1ms/step - loss: 0.3853 - accuracy: 0.8436\n",
            "Epoch 1/5\n",
            "625/625 [==============================] - 2s 3ms/step - loss: 0.4069 - accuracy: 0.8171 - val_loss: 0.3382 - val_accuracy: 0.8564\n",
            "Epoch 2/5\n",
            "625/625 [==============================] - 2s 3ms/step - loss: 0.3200 - accuracy: 0.8662 - val_loss: 0.3387 - val_accuracy: 0.8556\n",
            "Epoch 3/5\n",
            "625/625 [==============================] - 2s 3ms/step - loss: 0.3044 - accuracy: 0.8720 - val_loss: 0.3512 - val_accuracy: 0.8472\n",
            "Epoch 4/5\n",
            "625/625 [==============================] - 1s 2ms/step - loss: 0.2836 - accuracy: 0.8814 - val_loss: 0.3438 - val_accuracy: 0.8514\n",
            "Epoch 5/5\n",
            "625/625 [==============================] - 1s 2ms/step - loss: 0.2533 - accuracy: 0.8950 - val_loss: 0.3624 - val_accuracy: 0.8439\n",
            "157/157 [==============================] - 0s 1ms/step - loss: 0.3502 - accuracy: 0.8530\n",
            "Epoch 1/5\n",
            "625/625 [==============================] - 2s 3ms/step - loss: 0.3983 - accuracy: 0.8209 - val_loss: 0.3389 - val_accuracy: 0.8543\n",
            "Epoch 2/5\n",
            "625/625 [==============================] - 2s 2ms/step - loss: 0.3215 - accuracy: 0.8666 - val_loss: 0.3387 - val_accuracy: 0.8533\n",
            "Epoch 3/5\n",
            "625/625 [==============================] - 2s 2ms/step - loss: 0.3077 - accuracy: 0.8699 - val_loss: 0.3425 - val_accuracy: 0.8480\n",
            "Epoch 4/5\n",
            "625/625 [==============================] - 2s 2ms/step - loss: 0.2864 - accuracy: 0.8796 - val_loss: 0.3387 - val_accuracy: 0.8502\n",
            "Epoch 5/5\n",
            "625/625 [==============================] - 1s 2ms/step - loss: 0.2566 - accuracy: 0.8931 - val_loss: 0.3538 - val_accuracy: 0.8486\n",
            "157/157 [==============================] - 0s 1ms/step - loss: 0.3610 - accuracy: 0.8466\n",
            "Epoch 1/5\n",
            "625/625 [==============================] - 2s 3ms/step - loss: 0.3974 - accuracy: 0.8236 - val_loss: 0.3480 - val_accuracy: 0.8486\n",
            "Epoch 2/5\n",
            "625/625 [==============================] - 2s 3ms/step - loss: 0.3165 - accuracy: 0.8666 - val_loss: 0.3337 - val_accuracy: 0.8550\n",
            "Epoch 3/5\n",
            "625/625 [==============================] - 2s 3ms/step - loss: 0.2987 - accuracy: 0.8725 - val_loss: 0.3434 - val_accuracy: 0.8486\n",
            "Epoch 4/5\n",
            "625/625 [==============================] - 2s 3ms/step - loss: 0.2816 - accuracy: 0.8796 - val_loss: 0.3392 - val_accuracy: 0.8497\n",
            "Epoch 5/5\n",
            "625/625 [==============================] - 1s 2ms/step - loss: 0.2564 - accuracy: 0.8919 - val_loss: 0.3531 - val_accuracy: 0.8460\n",
            "157/157 [==============================] - 0s 1ms/step - loss: 0.3412 - accuracy: 0.8574\n",
            "Epoch 1/5\n",
            "625/625 [==============================] - 2s 3ms/step - loss: 0.4075 - accuracy: 0.8161 - val_loss: 0.3469 - val_accuracy: 0.8519\n",
            "Epoch 2/5\n",
            "625/625 [==============================] - 1s 2ms/step - loss: 0.3146 - accuracy: 0.8666 - val_loss: 0.3368 - val_accuracy: 0.8527\n",
            "Epoch 3/5\n",
            "625/625 [==============================] - 1s 2ms/step - loss: 0.2941 - accuracy: 0.8746 - val_loss: 0.3510 - val_accuracy: 0.8472\n",
            "Epoch 4/5\n",
            "625/625 [==============================] - 2s 3ms/step - loss: 0.2718 - accuracy: 0.8854 - val_loss: 0.3446 - val_accuracy: 0.8497\n",
            "Epoch 5/5\n",
            "625/625 [==============================] - 2s 3ms/step - loss: 0.2425 - accuracy: 0.8965 - val_loss: 0.3585 - val_accuracy: 0.8462\n",
            "157/157 [==============================] - 0s 1ms/step - loss: 0.3499 - accuracy: 0.8532\n",
            "Epoch 1/5\n",
            "625/625 [==============================] - 2s 3ms/step - loss: 0.3873 - accuracy: 0.8239 - val_loss: 0.3450 - val_accuracy: 0.8473\n",
            "Epoch 2/5\n",
            "625/625 [==============================] - 2s 3ms/step - loss: 0.3239 - accuracy: 0.8609 - val_loss: 0.3424 - val_accuracy: 0.8506\n",
            "Epoch 3/5\n",
            "625/625 [==============================] - 1s 2ms/step - loss: 0.3065 - accuracy: 0.8691 - val_loss: 0.3620 - val_accuracy: 0.8470\n",
            "Epoch 4/5\n",
            "625/625 [==============================] - 2s 3ms/step - loss: 0.2952 - accuracy: 0.8734 - val_loss: 0.3482 - val_accuracy: 0.8470\n",
            "Epoch 5/5\n",
            "625/625 [==============================] - 2s 3ms/step - loss: 0.2872 - accuracy: 0.8747 - val_loss: 0.3541 - val_accuracy: 0.8458\n",
            "157/157 [==============================] - 0s 1ms/step - loss: 0.3525 - accuracy: 0.8528\n",
            "Epoch 1/5\n",
            "625/625 [==============================] - 2s 2ms/step - loss: 0.3795 - accuracy: 0.8315 - val_loss: 0.3340 - val_accuracy: 0.8526\n",
            "Epoch 2/5\n",
            "625/625 [==============================] - 2s 3ms/step - loss: 0.3169 - accuracy: 0.8652 - val_loss: 0.3379 - val_accuracy: 0.8546\n",
            "Epoch 3/5\n",
            "625/625 [==============================] - 2s 3ms/step - loss: 0.2990 - accuracy: 0.8733 - val_loss: 0.3527 - val_accuracy: 0.8469\n",
            "Epoch 4/5\n",
            "625/625 [==============================] - 2s 3ms/step - loss: 0.2854 - accuracy: 0.8777 - val_loss: 0.3609 - val_accuracy: 0.8432\n",
            "Epoch 5/5\n",
            "625/625 [==============================] - 2s 2ms/step - loss: 0.2691 - accuracy: 0.8867 - val_loss: 0.3559 - val_accuracy: 0.8459\n",
            "157/157 [==============================] - 0s 1ms/step - loss: 0.3474 - accuracy: 0.8574\n",
            "Epoch 1/5\n",
            "625/625 [==============================] - 2s 3ms/step - loss: 0.3774 - accuracy: 0.8331 - val_loss: 0.3409 - val_accuracy: 0.8486\n",
            "Epoch 2/5\n",
            "625/625 [==============================] - 2s 3ms/step - loss: 0.3157 - accuracy: 0.8633 - val_loss: 0.3371 - val_accuracy: 0.8514\n",
            "Epoch 3/5\n",
            "625/625 [==============================] - 1s 2ms/step - loss: 0.2956 - accuracy: 0.8730 - val_loss: 0.3561 - val_accuracy: 0.8454\n",
            "Epoch 4/5\n",
            "625/625 [==============================] - 1s 2ms/step - loss: 0.2781 - accuracy: 0.8783 - val_loss: 0.3511 - val_accuracy: 0.8457\n",
            "Epoch 5/5\n",
            "625/625 [==============================] - 1s 2ms/step - loss: 0.2582 - accuracy: 0.8888 - val_loss: 0.3565 - val_accuracy: 0.8421\n",
            "157/157 [==============================] - 0s 1ms/step - loss: 0.3591 - accuracy: 0.8392\n",
            "Epoch 1/5\n",
            "625/625 [==============================] - 2s 2ms/step - loss: 0.3750 - accuracy: 0.8340 - val_loss: 0.3539 - val_accuracy: 0.8429\n",
            "Epoch 2/5\n",
            "625/625 [==============================] - 2s 3ms/step - loss: 0.3158 - accuracy: 0.8630 - val_loss: 0.3385 - val_accuracy: 0.8475\n",
            "Epoch 3/5\n",
            "625/625 [==============================] - 1s 2ms/step - loss: 0.2956 - accuracy: 0.8719 - val_loss: 0.3508 - val_accuracy: 0.8487\n",
            "Epoch 4/5\n",
            "625/625 [==============================] - 1s 2ms/step - loss: 0.2821 - accuracy: 0.8789 - val_loss: 0.3576 - val_accuracy: 0.8430\n",
            "Epoch 5/5\n",
            "625/625 [==============================] - 2s 2ms/step - loss: 0.2638 - accuracy: 0.8884 - val_loss: 0.3602 - val_accuracy: 0.8454\n",
            "157/157 [==============================] - 0s 1ms/step - loss: 0.3609 - accuracy: 0.8504\n",
            "Epoch 1/5\n",
            "625/625 [==============================] - 2s 3ms/step - loss: 0.3748 - accuracy: 0.8339 - val_loss: 0.3460 - val_accuracy: 0.8446\n",
            "Epoch 2/5\n",
            "625/625 [==============================] - 1s 2ms/step - loss: 0.3156 - accuracy: 0.8651 - val_loss: 0.3422 - val_accuracy: 0.8465\n",
            "Epoch 3/5\n",
            "625/625 [==============================] - 2s 3ms/step - loss: 0.2970 - accuracy: 0.8709 - val_loss: 0.3487 - val_accuracy: 0.8470\n",
            "Epoch 4/5\n",
            "625/625 [==============================] - 1s 2ms/step - loss: 0.2795 - accuracy: 0.8808 - val_loss: 0.3560 - val_accuracy: 0.8473\n",
            "Epoch 5/5\n",
            "625/625 [==============================] - 2s 3ms/step - loss: 0.2640 - accuracy: 0.8870 - val_loss: 0.3587 - val_accuracy: 0.8372\n",
            "157/157 [==============================] - 0s 1ms/step - loss: 0.3532 - accuracy: 0.8440\n",
            "Epoch 1/5\n",
            "625/625 [==============================] - 2s 2ms/step - loss: 0.3762 - accuracy: 0.8318 - val_loss: 0.3379 - val_accuracy: 0.8496\n",
            "Epoch 2/5\n",
            "625/625 [==============================] - 2s 3ms/step - loss: 0.3153 - accuracy: 0.8628 - val_loss: 0.3448 - val_accuracy: 0.8532\n",
            "Epoch 3/5\n",
            "625/625 [==============================] - 2s 3ms/step - loss: 0.2911 - accuracy: 0.8757 - val_loss: 0.3519 - val_accuracy: 0.8490\n",
            "Epoch 4/5\n",
            "625/625 [==============================] - 2s 3ms/step - loss: 0.2687 - accuracy: 0.8872 - val_loss: 0.3710 - val_accuracy: 0.8419\n",
            "Epoch 5/5\n",
            "625/625 [==============================] - 1s 2ms/step - loss: 0.2501 - accuracy: 0.8941 - val_loss: 0.3760 - val_accuracy: 0.8442\n",
            "157/157 [==============================] - 0s 1ms/step - loss: 0.3673 - accuracy: 0.8474\n",
            "Epoch 1/5\n",
            "625/625 [==============================] - 2s 3ms/step - loss: 0.3805 - accuracy: 0.8298 - val_loss: 0.3422 - val_accuracy: 0.8496\n",
            "Epoch 2/5\n",
            "625/625 [==============================] - 2s 3ms/step - loss: 0.3174 - accuracy: 0.8638 - val_loss: 0.3399 - val_accuracy: 0.8520\n",
            "Epoch 3/5\n",
            "625/625 [==============================] - 2s 3ms/step - loss: 0.2984 - accuracy: 0.8731 - val_loss: 0.3569 - val_accuracy: 0.8449\n",
            "Epoch 4/5\n",
            "625/625 [==============================] - 1s 2ms/step - loss: 0.2794 - accuracy: 0.8817 - val_loss: 0.3614 - val_accuracy: 0.8418\n",
            "Epoch 5/5\n",
            "625/625 [==============================] - 1s 2ms/step - loss: 0.2657 - accuracy: 0.8875 - val_loss: 0.3698 - val_accuracy: 0.8476\n",
            "157/157 [==============================] - 0s 1ms/step - loss: 0.3606 - accuracy: 0.8502\n",
            "Epoch 1/5\n",
            "625/625 [==============================] - 2s 3ms/step - loss: 0.3745 - accuracy: 0.8342 - val_loss: 0.3383 - val_accuracy: 0.8497\n",
            "Epoch 2/5\n",
            "625/625 [==============================] - 1s 2ms/step - loss: 0.3167 - accuracy: 0.8648 - val_loss: 0.3401 - val_accuracy: 0.8525\n",
            "Epoch 3/5\n",
            "625/625 [==============================] - 2s 3ms/step - loss: 0.2940 - accuracy: 0.8735 - val_loss: 0.3439 - val_accuracy: 0.8470\n",
            "Epoch 4/5\n",
            "625/625 [==============================] - 2s 2ms/step - loss: 0.2790 - accuracy: 0.8787 - val_loss: 0.3517 - val_accuracy: 0.8482\n",
            "Epoch 5/5\n",
            "625/625 [==============================] - 2s 3ms/step - loss: 0.2596 - accuracy: 0.8891 - val_loss: 0.3703 - val_accuracy: 0.8466\n",
            "157/157 [==============================] - 0s 1ms/step - loss: 0.3674 - accuracy: 0.8476\n",
            "Epoch 1/5\n",
            "625/625 [==============================] - 2s 3ms/step - loss: 0.3744 - accuracy: 0.8346 - val_loss: 0.3484 - val_accuracy: 0.8497\n",
            "Epoch 2/5\n",
            "625/625 [==============================] - 2s 3ms/step - loss: 0.3158 - accuracy: 0.8615 - val_loss: 0.3376 - val_accuracy: 0.8462\n",
            "Epoch 3/5\n",
            "625/625 [==============================] - 2s 3ms/step - loss: 0.2963 - accuracy: 0.8710 - val_loss: 0.3452 - val_accuracy: 0.8489\n",
            "Epoch 4/5\n",
            "625/625 [==============================] - 1s 2ms/step - loss: 0.2824 - accuracy: 0.8763 - val_loss: 0.3604 - val_accuracy: 0.8432\n",
            "Epoch 5/5\n",
            "625/625 [==============================] - 2s 3ms/step - loss: 0.2648 - accuracy: 0.8841 - val_loss: 0.3587 - val_accuracy: 0.8456\n",
            "157/157 [==============================] - 0s 1ms/step - loss: 0.3565 - accuracy: 0.8482\n",
            "Epoch 1/5\n",
            "625/625 [==============================] - 2s 3ms/step - loss: 0.3757 - accuracy: 0.8349 - val_loss: 0.3439 - val_accuracy: 0.8460\n",
            "Epoch 2/5\n",
            "625/625 [==============================] - 2s 3ms/step - loss: 0.3175 - accuracy: 0.8633 - val_loss: 0.3402 - val_accuracy: 0.8454\n",
            "Epoch 3/5\n",
            "625/625 [==============================] - 2s 3ms/step - loss: 0.2959 - accuracy: 0.8734 - val_loss: 0.3618 - val_accuracy: 0.8483\n",
            "Epoch 4/5\n",
            "625/625 [==============================] - 2s 3ms/step - loss: 0.2771 - accuracy: 0.8837 - val_loss: 0.3629 - val_accuracy: 0.8477\n",
            "Epoch 5/5\n",
            "625/625 [==============================] - 1s 2ms/step - loss: 0.2570 - accuracy: 0.8903 - val_loss: 0.3728 - val_accuracy: 0.8408\n",
            "157/157 [==============================] - 0s 1ms/step - loss: 0.3565 - accuracy: 0.8536\n",
            "Epoch 1/5\n",
            "625/625 [==============================] - 2s 3ms/step - loss: 0.3841 - accuracy: 0.8264 - val_loss: 0.3416 - val_accuracy: 0.8510\n",
            "Epoch 2/5\n",
            "625/625 [==============================] - 2s 3ms/step - loss: 0.3208 - accuracy: 0.8634 - val_loss: 0.3404 - val_accuracy: 0.8522\n",
            "Epoch 3/5\n",
            "625/625 [==============================] - 2s 3ms/step - loss: 0.3053 - accuracy: 0.8683 - val_loss: 0.3454 - val_accuracy: 0.8490\n",
            "Epoch 4/5\n",
            "625/625 [==============================] - 2s 3ms/step - loss: 0.2959 - accuracy: 0.8700 - val_loss: 0.3510 - val_accuracy: 0.8503\n",
            "Epoch 5/5\n",
            "625/625 [==============================] - 2s 2ms/step - loss: 0.2926 - accuracy: 0.8726 - val_loss: 0.3528 - val_accuracy: 0.8498\n",
            "157/157 [==============================] - 0s 1ms/step - loss: 0.3489 - accuracy: 0.8556\n",
            "Epoch 1/5\n",
            "625/625 [==============================] - 2s 3ms/step - loss: 0.3814 - accuracy: 0.8307 - val_loss: 0.3325 - val_accuracy: 0.8526\n",
            "Epoch 2/5\n",
            "625/625 [==============================] - 2s 3ms/step - loss: 0.3150 - accuracy: 0.8636 - val_loss: 0.3480 - val_accuracy: 0.8541\n",
            "Epoch 3/5\n",
            "625/625 [==============================] - 2s 2ms/step - loss: 0.2957 - accuracy: 0.8725 - val_loss: 0.3590 - val_accuracy: 0.8435\n",
            "Epoch 4/5\n",
            "625/625 [==============================] - 2s 3ms/step - loss: 0.2747 - accuracy: 0.8812 - val_loss: 0.3590 - val_accuracy: 0.8398\n",
            "Epoch 5/5\n",
            "625/625 [==============================] - 2s 2ms/step - loss: 0.2530 - accuracy: 0.8910 - val_loss: 0.3775 - val_accuracy: 0.8427\n",
            "157/157 [==============================] - 0s 1ms/step - loss: 0.3653 - accuracy: 0.8506\n",
            "Epoch 1/5\n",
            "625/625 [==============================] - 2s 3ms/step - loss: 0.3716 - accuracy: 0.8363 - val_loss: 0.3362 - val_accuracy: 0.8528\n",
            "Epoch 2/5\n",
            "625/625 [==============================] - 2s 3ms/step - loss: 0.3131 - accuracy: 0.8658 - val_loss: 0.3398 - val_accuracy: 0.8526\n",
            "Epoch 3/5\n",
            "625/625 [==============================] - 2s 3ms/step - loss: 0.2924 - accuracy: 0.8738 - val_loss: 0.3564 - val_accuracy: 0.8490\n",
            "Epoch 4/5\n",
            "625/625 [==============================] - 2s 3ms/step - loss: 0.2740 - accuracy: 0.8816 - val_loss: 0.3642 - val_accuracy: 0.8446\n",
            "Epoch 5/5\n",
            "625/625 [==============================] - 1s 2ms/step - loss: 0.2583 - accuracy: 0.8870 - val_loss: 0.3767 - val_accuracy: 0.8384\n",
            "157/157 [==============================] - 0s 1ms/step - loss: 0.3713 - accuracy: 0.8456\n",
            "Epoch 1/5\n",
            "625/625 [==============================] - 2s 3ms/step - loss: 0.3739 - accuracy: 0.8342 - val_loss: 0.3461 - val_accuracy: 0.8447\n",
            "Epoch 2/5\n",
            "625/625 [==============================] - 2s 3ms/step - loss: 0.3126 - accuracy: 0.8654 - val_loss: 0.3461 - val_accuracy: 0.8425\n",
            "Epoch 3/5\n",
            "625/625 [==============================] - 2s 3ms/step - loss: 0.2881 - accuracy: 0.8763 - val_loss: 0.3476 - val_accuracy: 0.8446\n",
            "Epoch 4/5\n",
            "625/625 [==============================] - 2s 3ms/step - loss: 0.2611 - accuracy: 0.8920 - val_loss: 0.3800 - val_accuracy: 0.8396\n",
            "Epoch 5/5\n",
            "625/625 [==============================] - 2s 2ms/step - loss: 0.2313 - accuracy: 0.9067 - val_loss: 0.3904 - val_accuracy: 0.8375\n",
            "157/157 [==============================] - 0s 1ms/step - loss: 0.3794 - accuracy: 0.8428\n",
            "Epoch 1/5\n",
            "625/625 [==============================] - 2s 3ms/step - loss: 0.3732 - accuracy: 0.8353 - val_loss: 0.3553 - val_accuracy: 0.8402\n",
            "Epoch 2/5\n",
            "625/625 [==============================] - 2s 3ms/step - loss: 0.3166 - accuracy: 0.8652 - val_loss: 0.3525 - val_accuracy: 0.8397\n",
            "Epoch 3/5\n",
            "625/625 [==============================] - 1s 2ms/step - loss: 0.2928 - accuracy: 0.8763 - val_loss: 0.3610 - val_accuracy: 0.8473\n",
            "Epoch 4/5\n",
            "625/625 [==============================] - 2s 3ms/step - loss: 0.2647 - accuracy: 0.8899 - val_loss: 0.3646 - val_accuracy: 0.8450\n",
            "Epoch 5/5\n",
            "625/625 [==============================] - 2s 3ms/step - loss: 0.2354 - accuracy: 0.9030 - val_loss: 0.3717 - val_accuracy: 0.8372\n",
            "157/157 [==============================] - 0s 1ms/step - loss: 0.3640 - accuracy: 0.8448\n",
            "Epoch 1/5\n",
            "782/782 [==============================] - 3s 3ms/step - loss: 0.3964 - accuracy: 0.8259 - val_loss: 0.3575 - val_accuracy: 0.8453\n",
            "Epoch 2/5\n",
            "782/782 [==============================] - 2s 3ms/step - loss: 0.3217 - accuracy: 0.8649 - val_loss: 0.3377 - val_accuracy: 0.8539\n",
            "Epoch 3/5\n",
            "782/782 [==============================] - 2s 3ms/step - loss: 0.3120 - accuracy: 0.8686 - val_loss: 0.3456 - val_accuracy: 0.8493\n",
            "Epoch 4/5\n",
            "782/782 [==============================] - 2s 2ms/step - loss: 0.3017 - accuracy: 0.8739 - val_loss: 0.3529 - val_accuracy: 0.8459\n",
            "Epoch 5/5\n",
            "782/782 [==============================] - 2s 2ms/step - loss: 0.2876 - accuracy: 0.8774 - val_loss: 0.3427 - val_accuracy: 0.8511\n"
          ],
          "name": "stdout"
        },
        {
          "output_type": "execute_result",
          "data": {
            "text/plain": [
              "GridSearchCV(cv=None, error_score=nan,\n",
              "             estimator=<tensorflow.python.keras.wrappers.scikit_learn.KerasRegressor object at 0x7f7ced8c5d90>,\n",
              "             iid='deprecated', n_jobs=None,\n",
              "             param_grid={'learning_rate': [0.001, 0.01],\n",
              "                         'n_units': [10, 15, 20]},\n",
              "             pre_dispatch='2*n_jobs', refit=True, return_train_score=False,\n",
              "             scoring=None, verbose=0)"
            ]
          },
          "metadata": {
            "tags": []
          },
          "execution_count": 39
        }
      ]
    },
    {
      "cell_type": "markdown",
      "metadata": {
        "id": "aadmkiOoyM94"
      },
      "source": [
        "Print the best hyper-parameters, and evealuate the best model on the test set."
      ]
    },
    {
      "cell_type": "code",
      "metadata": {
        "id": "b0nL5OZkylNX",
        "colab": {
          "base_uri": "https://localhost:8080/"
        },
        "outputId": "b4a7b4bc-1750-42b2-afbe-b4e2a3813794"
      },
      "source": [
        "print(grid_search.best_params_)\n",
        "\n",
        "model = grid_search.best_estimator_.model\n",
        "model.evaluate(X_test, y_test)"
      ],
      "execution_count": 40,
      "outputs": [
        {
          "output_type": "stream",
          "text": [
            "{'learning_rate': 0.001, 'n_units': 10}\n",
            "391/391 [==============================] - 0s 1ms/step - loss: 0.3216 - accuracy: 0.8633\n"
          ],
          "name": "stdout"
        },
        {
          "output_type": "execute_result",
          "data": {
            "text/plain": [
              "[0.32164791226387024, 0.8632799983024597]"
            ]
          },
          "metadata": {
            "tags": []
          },
          "execution_count": 40
        }
      ]
    }
  ]
}